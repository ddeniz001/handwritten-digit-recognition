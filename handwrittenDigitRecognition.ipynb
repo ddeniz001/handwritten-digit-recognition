{
 "cells": [
  {
   "cell_type": "code",
   "execution_count": 36,
   "metadata": {},
   "outputs": [
    {
     "name": "stdout",
     "output_type": "stream",
     "text": [
      "Epoch 1/3\n",
      "1875/1875 [==============================] - 3s 2ms/step - loss: 0.2504 - accuracy: 0.9253\n",
      "Epoch 2/3\n",
      "1875/1875 [==============================] - 3s 1ms/step - loss: 0.1010 - accuracy: 0.9686\n",
      "Epoch 3/3\n",
      "1875/1875 [==============================] - 3s 1ms/step - loss: 0.0665 - accuracy: 0.9789\n",
      "313/313 [==============================] - 0s 883us/step - loss: 0.0844 - accuracy: 0.9742\n",
      "TOTAL ACCURACY  -> 0.9742000102996826\n",
      "TOTAL LOSS   -> 0.08436940610408783\n",
      "INFO:tensorflow:Assets written to: digits.model\\assets\n",
      "This number below is most likely  7\n"
     ]
    },
    {
     "data": {
      "image/png": "[encoded data removed]",
      "text/plain": [
       "<Figure size 432x288 with 1 Axes>"
      ]
     },
     "metadata": {
      "needs_background": "light"
     },
     "output_type": "display_data"
    }
   ],
   "source": [
    "import tensorflow as tf\n",
    "import numpy as np\n",
    "import matplotlib.pyplot as plt\n",
    "\n",
    "\n",
    "# Import dataset called mnist, which includes handwritten digits from 0 to 9\n",
    "mnist = tf.keras.datasets.mnist\n",
    "\n",
    "# Split mnist dataset into training & testing\n",
    "(xtrain,ytrain),(xtest, ytest) = mnist.load_data()\n",
    "\n",
    "# Scaling down the data allows for easier learning for the network\n",
    "xtrain = tf.keras.utils.normalize(xtrain,axis=1)\n",
    "xtest = tf.keras.utils.normalize(xtest,axis=1)\n",
    "\n",
    "# Create the model\n",
    "model = tf.keras.models.Sequential()\n",
    "\n",
    "# 28x28 pixels are flattened, that is; 784 neurons in total\n",
    "model.add(tf.keras.layers.Flatten(input_shape=(28,28)))\n",
    "\n",
    "# Using the ReLu activation function that will return a value between 0 and 1\n",
    "model.add(tf.keras.layers.Dense(units=160,activation=tf.nn.relu))\n",
    "model.add(tf.keras.layers.Dense(units=160,activation=tf.nn.relu))\n",
    "\n",
    "model.add(tf.keras.layers.Dense(units=10,activation=tf.nn.softmax))\n",
    "\n",
    "model.compile(optimizer='adam',\n",
    "              loss='sparse_categorical_crossentropy',\n",
    "              metrics=['accuracy'])\n",
    "\n",
    "# Model is trained\n",
    "model.fit(xtrain,ytrain,epochs=3)\n",
    "\n",
    "# Evaluate data which has run out of sample \n",
    "loss, accuracy = model.evaluate(xtest,ytest)\n",
    "print(\"TOTAL ACCURACY  ->\", accuracy)\n",
    "\n",
    "# Loss is the calculated degree for errors\n",
    "print(\"TOTAL LOSS   ->\", loss)\n",
    "\n",
    "model.save('digits.model')\n",
    "\n",
    "# Makes a prediction (.predict must take in a list)\n",
    "predictions = model.predict([xtest])\n",
    "print(\"This number below is most likely \", np.argmax(predictions[0]))\n",
    "\n",
    "# Show the handwritten digit\n",
    "plt.imshow(xtest[0],cmap=plt.cm.binary)\n",
    "plt.show()\n",
    "\n"
   ]
  },
  {
   "cell_type": "code",
   "execution_count": null,
   "metadata": {},
   "outputs": [],
   "source": []
  }
 ],
 "metadata": {
  "kernelspec": {
   "display_name": "Python 3.7 (tensorflow)",
   "language": "python",
   "name": "tensorflow"
  },
  "language_info": {
   "codemirror_mode": {
    "name": "ipython",
    "version": 3
   },
   "file_extension": ".py",
   "mimetype": "text/x-python",
   "name": "python",
   "nbconvert_exporter": "python",
   "pygments_lexer": "ipython3",
   "version": "3.7.7"
  }
 },
 "nbformat": 4,
 "nbformat_minor": 4
}
